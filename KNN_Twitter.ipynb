{
  "nbformat": 4,
  "nbformat_minor": 0,
  "metadata": {
    "colab": {
      "name": "21100088_Assignment1_Q1+Q2.ipynb",
      "provenance": []
    },
    "kernelspec": {
      "name": "python3",
      "display_name": "Python 3"
    },
    "accelerator": "GPU"
  },
  "cells": [
    {
      "cell_type": "markdown",
      "metadata": {
        "id": "4xgEyLWFiu7G"
      },
      "source": [
        "#Assignment1"
      ]
    },
    {
      "cell_type": "code",
      "metadata": {
        "id": "1chVlGfmb7Mh",
        "outputId": "d74430e7-d4bb-4526-8d3a-8c2a66edf811",
        "colab": {
          "base_uri": "https://localhost:8080/",
          "height": 0
        }
      },
      "source": [
        "import IPython\n",
        "from google.colab import output\n",
        "display(IPython.display.Javascript('''\n",
        " function ClickConnect(){\n",
        "   btn = document.querySelector(\"colab-connect-button\")\n",
        "   if (btn != null){\n",
        "     console.log(\"Click colab-connect-button\");\n",
        "     btn.click()\n",
        "     }\n",
        "   btn = document.getElementById('ok')\n",
        "   if (btn != null){\n",
        "     console.log(\"Click reconnect\");\n",
        "     btn.click()\n",
        "     }\n",
        "  }\n",
        "setInterval(ClickConnect,60000)\n",
        "'''))\n",
        "print(\"Done.\")"
      ],
      "execution_count": 59,
      "outputs": [
        {
          "output_type": "display_data",
          "data": {
            "application/javascript": [
              "\n",
              " function ClickConnect(){\n",
              "   btn = document.querySelector(\"colab-connect-button\")\n",
              "   if (btn != null){\n",
              "     console.log(\"Click colab-connect-button\");\n",
              "     btn.click()\n",
              "     }\n",
              "   btn = document.getElementById('ok')\n",
              "   if (btn != null){\n",
              "     console.log(\"Click reconnect\");\n",
              "     btn.click()\n",
              "     }\n",
              "  }\n",
              "setInterval(ClickConnect,60000)\n"
            ],
            "text/plain": [
              "<IPython.core.display.Javascript object>"
            ]
          },
          "metadata": {
            "tags": []
          }
        },
        {
          "output_type": "stream",
          "text": [
            "Done.\n"
          ],
          "name": "stdout"
        }
      ]
    },
    {
      "cell_type": "code",
      "metadata": {
        "id": "kuXaNytVcGqe",
        "outputId": "83616115-e542-4654-c624-944dd1e32ccc",
        "colab": {
          "base_uri": "https://localhost:8080/",
          "height": 0
        }
      },
      "source": [
        "from google.colab import drive\n",
        "drive.mount('/content/gdrive')"
      ],
      "execution_count": 60,
      "outputs": [
        {
          "output_type": "stream",
          "text": [
            "Drive already mounted at /content/gdrive; to attempt to forcibly remount, call drive.mount(\"/content/gdrive\", force_remount=True).\n"
          ],
          "name": "stdout"
        }
      ]
    },
    {
      "cell_type": "code",
      "metadata": {
        "id": "dnmAIyj6cR4V",
        "outputId": "1cff7806-539c-479c-a41e-5e2fd4a78914",
        "colab": {
          "base_uri": "https://localhost:8080/",
          "height": 0
        }
      },
      "source": [
        "%cd /content/gdrive/My\\ Drive/ML/Programming_Assignment_1/"
      ],
      "execution_count": 61,
      "outputs": [
        {
          "output_type": "stream",
          "text": [
            "/content/gdrive/My Drive/ML/Programming_Assignment_1\n"
          ],
          "name": "stdout"
        }
      ]
    },
    {
      "cell_type": "code",
      "metadata": {
        "id": "uZLjhwnVcdFD",
        "outputId": "a65ac677-1b94-46c7-ac5f-4d7f49c7b6c1",
        "colab": {
          "base_uri": "https://localhost:8080/",
          "height": 0
        }
      },
      "source": [
        "%ls"
      ],
      "execution_count": 62,
      "outputs": [
        {
          "output_type": "stream",
          "text": [
            "21100088_Assignment1.ipynb             kNN.pdf         test.csv\n",
            "GoogleNews-vectors-negative300.bin.gz  stop_words.txt  train.csv\n"
          ],
          "name": "stdout"
        }
      ]
    },
    {
      "cell_type": "code",
      "metadata": {
        "id": "ueWQX4pndoDH"
      },
      "source": [
        "#imports\n",
        "import pandas as pd\n",
        "import numpy as np\n",
        "import string\n",
        "import re \n",
        "from scipy.spatial import distance\n",
        "from array import *"
      ],
      "execution_count": 63,
      "outputs": []
    },
    {
      "cell_type": "markdown",
      "metadata": {
        "id": "yKhcz-Kcvh3-"
      },
      "source": [
        "#Pre Processing\n"
      ]
    },
    {
      "cell_type": "code",
      "metadata": {
        "id": "TRDHFeKG1F6l"
      },
      "source": [
        "with open('stop_words.txt') as s:\n",
        "   content = s.readlines()"
      ],
      "execution_count": 64,
      "outputs": []
    },
    {
      "cell_type": "code",
      "metadata": {
        "id": "vE2QH5Yb2UDK"
      },
      "source": [
        "stop_words = []\n",
        "A = []"
      ],
      "execution_count": 65,
      "outputs": []
    },
    {
      "cell_type": "code",
      "metadata": {
        "id": "U9gfgGZk2q-Q"
      },
      "source": [
        "for x in content:\n",
        "  word = x.strip()\n",
        "  stop_words.append(word)"
      ],
      "execution_count": 66,
      "outputs": []
    },
    {
      "cell_type": "code",
      "metadata": {
        "id": "Xo80cOrE26bq"
      },
      "source": [
        "#stop_words"
      ],
      "execution_count": 67,
      "outputs": []
    },
    {
      "cell_type": "code",
      "metadata": {
        "id": "912ufLEL3Cnx"
      },
      "source": [
        "train_data = pd.read_csv('train.csv')"
      ],
      "execution_count": 68,
      "outputs": []
    },
    {
      "cell_type": "code",
      "metadata": {
        "id": "W5rNHeWz3dCz"
      },
      "source": [
        "#train_data"
      ],
      "execution_count": 69,
      "outputs": []
    },
    {
      "cell_type": "code",
      "metadata": {
        "id": "tdDQLPXpb8XL"
      },
      "source": [
        "def preprocess(x): # This is pre processing\n",
        "    final_list = []\n",
        "    list_final = []\n",
        "    \n",
        "    x = x.lower()\n",
        "    #remove URL\n",
        "    x = re.sub(\"http[:/.a-zA-z0-9]+|https[:/.a-zA-z0-9]+\", '', x) #Removing links by targetting the link format\n",
        "    x = re.sub(\"\\.\\.+\",' ',x)   #Removing series of dots\n",
        "    #split thing\n",
        "    wordlist = re.split('[!;\\-#?/%$&\\s]', x)  #Splitting the words who have a symbol between them\n",
        "    #go word by word to remove punctuation etc\n",
        "    for word in wordlist:\n",
        "        word = re.sub('[@!0-9]*', '', word) #Remove Numbers\n",
        "        #word = word.replace('-','')\n",
        "        item = word.strip(string.punctuation) #Remove punctuations\n",
        "        if item not in stop_words and item is not '': \n",
        "          list_final.append(item)\n",
        "    return list_final"
      ],
      "execution_count": 70,
      "outputs": []
    },
    {
      "cell_type": "code",
      "metadata": {
        "id": "4Ok4ANhJvN_L",
        "outputId": "fcf70751-e329-446b-c0bf-59674bf2f9b9",
        "colab": {
          "base_uri": "https://localhost:8080/",
          "height": 35
        }
      },
      "source": [
        "s = train_data['Tweet'][0]\n",
        "s"
      ],
      "execution_count": 71,
      "outputs": [
        {
          "output_type": "execute_result",
          "data": {
            "application/vnd.google.colaboratory.intrinsic+json": {
              "type": "string"
            },
            "text/plain": [
              "'@united 877 from amsterdam to ewr, 02.27.2015, 737-300.'"
            ]
          },
          "metadata": {
            "tags": []
          },
          "execution_count": 71
        }
      ]
    },
    {
      "cell_type": "code",
      "metadata": {
        "id": "VXUJoA5SvW8O",
        "outputId": "8fa7e588-007f-4511-d82b-b8fed3ed8304",
        "colab": {
          "base_uri": "https://localhost:8080/",
          "height": 34
        }
      },
      "source": [
        "preprocess(s)"
      ],
      "execution_count": 72,
      "outputs": [
        {
          "output_type": "execute_result",
          "data": {
            "text/plain": [
              "['united', 'amsterdam', 'ewr']"
            ]
          },
          "metadata": {
            "tags": []
          },
          "execution_count": 72
        }
      ]
    },
    {
      "cell_type": "code",
      "metadata": {
        "id": "jVs45yI2bkq7"
      },
      "source": [
        "\n",
        "train_data['Processed Tweet'] = train_data['Tweet'].map(preprocess)\n",
        "#train_data"
      ],
      "execution_count": 73,
      "outputs": []
    },
    {
      "cell_type": "code",
      "metadata": {
        "id": "w-IXqY7V4x8R"
      },
      "source": [
        "vocab = [];"
      ],
      "execution_count": 74,
      "outputs": []
    },
    {
      "cell_type": "code",
      "metadata": {
        "id": "iia8lID9vM-I"
      },
      "source": [
        "def make_dictionary(x):   #Making My list of words\n",
        "  #print(x);\n",
        "  for word in x:\n",
        "    if word not in vocab: \n",
        "      vocab.append(word)"
      ],
      "execution_count": 75,
      "outputs": []
    },
    {
      "cell_type": "code",
      "metadata": {
        "id": "vvYtxLix4lmH"
      },
      "source": [
        "for item in train_data['Processed Tweet']: #Making my vocabalary using the above function\n",
        "    make_dictionary(item)\n"
      ],
      "execution_count": 76,
      "outputs": []
    },
    {
      "cell_type": "code",
      "metadata": {
        "id": "rPIvG3CYIrVF"
      },
      "source": [
        "# print(vocab)"
      ],
      "execution_count": 77,
      "outputs": []
    },
    {
      "cell_type": "code",
      "metadata": {
        "id": "9UVxm41b4pSA"
      },
      "source": [
        "# len(vocab)"
      ],
      "execution_count": 78,
      "outputs": []
    },
    {
      "cell_type": "code",
      "metadata": {
        "id": "32RNbZ0HpU-l"
      },
      "source": [
        "BOW = []"
      ],
      "execution_count": 79,
      "outputs": []
    },
    {
      "cell_type": "code",
      "metadata": {
        "id": "Jy6uGDbt32O0"
      },
      "source": [
        "# Making a bag of words for Training data.\n",
        "# iterate through my processed tweet gives me a list of words of each tweet\n",
        "# so it becomes a list in a list, hence the two for loops\n",
        "for wordlist in train_data['Processed Tweet']:\n",
        "  Tweet = [0]*len(vocab)\n",
        "  for word in wordlist:\n",
        "    a = vocab.index(word)\n",
        "    Tweet[a] += 1\n",
        "  #if  Tweet[a] > 1:\n",
        "  BOW.append(Tweet) \n",
        "      "
      ],
      "execution_count": 80,
      "outputs": []
    },
    {
      "cell_type": "code",
      "metadata": {
        "id": "wdarEBhmv_hV"
      },
      "source": [
        "bow = np.asarray(BOW)"
      ],
      "execution_count": 81,
      "outputs": []
    },
    {
      "cell_type": "code",
      "metadata": {
        "id": "67ICLDseyksV",
        "outputId": "2551b1bf-e87b-424b-a6f5-3ec4f455eb58",
        "colab": {
          "base_uri": "https://localhost:8080/",
          "height": 0
        }
      },
      "source": [
        "bow.shape\n",
        "#Tweet"
      ],
      "execution_count": 82,
      "outputs": [
        {
          "output_type": "execute_result",
          "data": {
            "text/plain": [
              "(11680, 10962)"
            ]
          },
          "metadata": {
            "tags": []
          },
          "execution_count": 82
        }
      ]
    },
    {
      "cell_type": "code",
      "metadata": {
        "id": "5tXIc5jGj-Gg"
      },
      "source": [
        "S = []\n",
        "S = bow.sum(axis =0)"
      ],
      "execution_count": 83,
      "outputs": []
    },
    {
      "cell_type": "markdown",
      "metadata": {
        "id": "P2ySvh4H71-j"
      },
      "source": [
        "#TASK1 KNN_Implementation\n"
      ]
    },
    {
      "cell_type": "code",
      "metadata": {
        "id": "P1sKnLvA--cY"
      },
      "source": [
        "import pickle\n",
        "import gc\n",
        "from collections import Counter"
      ],
      "execution_count": 84,
      "outputs": []
    },
    {
      "cell_type": "code",
      "metadata": {
        "id": "l1hubMjy5oba"
      },
      "source": [
        "test_data = pd.read_csv('test.csv') # Loading the test data"
      ],
      "execution_count": 85,
      "outputs": []
    },
    {
      "cell_type": "code",
      "metadata": {
        "id": "NHwQYx1ECX81"
      },
      "source": [
        "BOW_test = []"
      ],
      "execution_count": 86,
      "outputs": []
    },
    {
      "cell_type": "code",
      "metadata": {
        "id": "oG038DrCBw7L"
      },
      "source": [
        "# Making a bag of words for Testing data.\n",
        "#what i do is make a new colunm of processed tweets after mapping the preprocess on the whole data frame\n",
        "# and then iterate through that, my processed tweet gives me a list of words of each tweet\n",
        "# so it becomes a list in a list, hence the two for loops\n",
        "# basically i iterating over training data to make freq table of Test tweets\n",
        "test_data['Processed Tweet'] = test_data['Tweet'].map(preprocess)\n",
        "\n",
        "for a in test_data['Processed Tweet']:\n",
        "  test_Tweet = [0]*len(vocab)\n",
        "  for word in a:\n",
        "    if word in vocab:              \n",
        "      x = vocab.index(word)\n",
        "      test_Tweet[x] += 1\n",
        "  BOW_test.append(test_Tweet)\n",
        "\n"
      ],
      "execution_count": 87,
      "outputs": []
    },
    {
      "cell_type": "code",
      "metadata": {
        "id": "885KcT-9J9Pa",
        "outputId": "ffec96af-7234-4f92-a1e7-8db73c10aa6f",
        "colab": {
          "base_uri": "https://localhost:8080/",
          "height": 34
        }
      },
      "source": [
        "bow_test = np.asarray(BOW_test) #Converting list into an array\n",
        "bow_test.shape"
      ],
      "execution_count": 88,
      "outputs": [
        {
          "output_type": "execute_result",
          "data": {
            "text/plain": [
              "(2921, 10962)"
            ]
          },
          "metadata": {
            "tags": []
          },
          "execution_count": 88
        }
      ]
    },
    {
      "cell_type": "code",
      "metadata": {
        "id": "Pz_j_FaIU_iJ"
      },
      "source": [
        "y = distance.cdist(bow_test,bow, 'euclidean') #calculating distances, output is again a 2D array"
      ],
      "execution_count": 89,
      "outputs": []
    },
    {
      "cell_type": "code",
      "metadata": {
        "id": "cZYjF5TjCrGo",
        "outputId": "5543e35b-7603-467c-9846-4cc337601e05",
        "colab": {
          "base_uri": "https://localhost:8080/",
          "height": 34
        }
      },
      "source": [
        "y.shape"
      ],
      "execution_count": 90,
      "outputs": [
        {
          "output_type": "execute_result",
          "data": {
            "text/plain": [
              "(2921, 11680)"
            ]
          },
          "metadata": {
            "tags": []
          },
          "execution_count": 90
        }
      ]
    },
    {
      "cell_type": "code",
      "metadata": {
        "id": "iepg-wHMdH7q"
      },
      "source": [
        "ydist = y.tolist() # making a list of list of distances"
      ],
      "execution_count": 91,
      "outputs": []
    },
    {
      "cell_type": "code",
      "metadata": {
        "id": "Vkp2he8Lr2Wq",
        "outputId": "66109e1b-981f-4e16-99c4-0e30b8586474",
        "colab": {
          "base_uri": "https://localhost:8080/",
          "height": 34
        }
      },
      "source": [
        "len(ydist)"
      ],
      "execution_count": 92,
      "outputs": [
        {
          "output_type": "execute_result",
          "data": {
            "text/plain": [
              "2921"
            ]
          },
          "metadata": {
            "tags": []
          },
          "execution_count": 92
        }
      ]
    },
    {
      "cell_type": "code",
      "metadata": {
        "id": "0JIMgxZjeu4T"
      },
      "source": [
        "# ydist"
      ],
      "execution_count": 93,
      "outputs": []
    },
    {
      "cell_type": "code",
      "metadata": {
        "id": "ZsWe9JivoCfK",
        "outputId": "f4fc8297-a00c-475a-d05f-4b8d060b6236",
        "colab": {
          "base_uri": "https://localhost:8080/",
          "height": 35
        }
      },
      "source": [
        "a = train_data['Sentiment'][1]\n",
        "a"
      ],
      "execution_count": 94,
      "outputs": [
        {
          "output_type": "execute_result",
          "data": {
            "application/vnd.google.colaboratory.intrinsic+json": {
              "type": "string"
            },
            "text/plain": [
              "'negative'"
            ]
          },
          "metadata": {
            "tags": []
          },
          "execution_count": 94
        }
      ]
    },
    {
      "cell_type": "code",
      "metadata": {
        "id": "0EvoQ_uaOR0z"
      },
      "source": [
        "train_sen = list(train_data[\"Sentiment\"])\n",
        " \n"
      ],
      "execution_count": 95,
      "outputs": []
    },
    {
      "cell_type": "code",
      "metadata": {
        "id": "gnvgPX9T08mu",
        "outputId": "181df876-a65c-4145-eb92-e27e57541616",
        "colab": {
          "base_uri": "https://localhost:8080/",
          "height": 35
        }
      },
      "source": [
        "train_sen[0]"
      ],
      "execution_count": 96,
      "outputs": [
        {
          "output_type": "execute_result",
          "data": {
            "application/vnd.google.colaboratory.intrinsic+json": {
              "type": "string"
            },
            "text/plain": [
              "'neutral'"
            ]
          },
          "metadata": {
            "tags": []
          },
          "execution_count": 96
        }
      ]
    },
    {
      "cell_type": "code",
      "metadata": {
        "id": "r-Cii_vphQeS"
      },
      "source": [
        "def k_n_n(k,dist):\n",
        "\n",
        "  while k>0:\n",
        "    # print(a)\n",
        "    label_k = []\n",
        "    dist = np.array(dist)   #i pass a distance list to this function, argsort basically returns me a list of indexes \n",
        "    kn = dist.argsort()[:k] # distances are sorted and then their indexes are stored so i can access k_nearest\n",
        "    # kn = kn.tolist()\n",
        "    # print(kn)\n",
        "    for i in kn:\n",
        "      # print(a)\n",
        "      sen = train_sen[i]  #Accessing k nearest\n",
        "      label_k.append(sen)\n",
        "\n",
        "    b = Counter(label_k)\n",
        "    \n",
        "    # pred = b.most_common()\n",
        "#Here i am comparing the most common results and returning the 1 most common label.\n",
        "    if len(b) == 1:\n",
        "      return b.most_common(1)[0][0]\n",
        "\n",
        "    elif len(b) == 2:\n",
        "      if b.most_common(2)[0][1] == b.most_common(2)[1][1]:\n",
        "        k -= 1\n",
        "      elif b.most_common(2)[0][1] > b.most_common(2)[1][1]:\n",
        "        return b.most_common(2)[0][0]\n",
        "      elif b.most_common(2)[0][1] < b.most_common(2)[1][1]:\n",
        "        return b.most_common(2)[1][0]\n",
        "\n",
        "    elif len(b) == 3:\n",
        "      if b.most_common(3)[0][1] == b.most_common(3)[1][1] and b.most_common(3)[0][1] == b.most_common(3)[2][1]:\n",
        "        k -= 1\n",
        "      elif b.most_common(3)[0][1] > b.most_common(3)[1][1] and b.most_common(3)[0][1] > b.most_common(3)[2][1] or b.most_common(3)[0][1] > b.most_common(3)[2][1] and b.most_common(3)[0][1] == b.most_common(3)[1][1] :\n",
        "        return b.most_common(3)[0][0]\n",
        "      elif b.most_common(3)[1][1] > b.most_common(3)[0][1] and b.most_common(3)[1][1] > b.most_common(3)[2][1] or b.most_common(3)[1][1] > b.most_common(3)[2][1] and b.most_common(3)[1][1] == b.most_common(3)[0][1] :\n",
        "        return b.most_common(3)[1][0]\n",
        "      elif b.most_common(3)[2][1] > b.most_common(3)[0][1] and b.most_common(3)[2][1] > b.most_common(3)[1][1] or b.most_common(3)[2][1] > b.most_common(3)[1][1] and b.most_common(3)[2][1] == b.most_common(3)[0][1] :\n",
        "        return b.most_common(3)[2][0]\n",
        "    \n",
        "  "
      ],
      "execution_count": 97,
      "outputs": []
    },
    {
      "cell_type": "code",
      "metadata": {
        "id": "l1qsmkn7yEns"
      },
      "source": [
        "def confusion_matrix():\n",
        "  a,b,c,d,e,f,g,h,i = 0,0,0,0,0,0,0,0,0\n",
        "#for confusion matrix for pred_positive row \n",
        "  for k in range(len(test_data['Sentiment'])):\n",
        "    if test_data['Predicted Sentiment'][k] == 'positive' and test_data['Sentiment'][k] == 'positive':\n",
        "      a += 1\n",
        "    elif test_data['Predicted Sentiment'][k] == 'positive' and test_data['Sentiment'][k] == 'neutral':\n",
        "      b += 1\n",
        "    elif test_data['Predicted Sentiment'][k] == 'positive' and test_data['Sentiment'][k] == 'negative':\n",
        "      c += 1 \n",
        "\n",
        "# for confusion matrix for pred_neutral row\n",
        "    if test_data['Predicted Sentiment'][k] == 'neutral' and test_data['Sentiment'][k] == 'positive':\n",
        "      d += 1\n",
        "    elif test_data['Predicted Sentiment'][k] == 'neutral' and test_data['Sentiment'][k] == 'neutral':\n",
        "      e += 1\n",
        "    elif test_data['Predicted Sentiment'][k] == 'neutral' and test_data['Sentiment'][k] == 'negative':\n",
        "      f += 1 \n",
        "\n",
        "# Confusion matrix for pred_negative row \n",
        "\n",
        "    if test_data['Predicted Sentiment'][k] == 'negative' and test_data['Sentiment'][k] == 'positive':\n",
        "      g += 1\n",
        "    elif test_data['Predicted Sentiment'][k] == 'negative' and test_data['Sentiment'][k] == 'neutral':\n",
        "      h += 1\n",
        "    elif test_data['Predicted Sentiment'][k] == 'negative' and test_data['Sentiment'][k] == 'negative':\n",
        "      i += 1\n",
        "  \n",
        "  confuse_matrix = [[a, b, c], [d, e, f], [g, h, i]]\n",
        "  #Basically i get a 3D matrix as a result in row wise fassion,\n",
        "\n",
        "  # print(confuse_matrix)\n",
        "  return confuse_matrix\n",
        "\n",
        "  "
      ],
      "execution_count": 98,
      "outputs": []
    },
    {
      "cell_type": "code",
      "metadata": {
        "id": "c1-TeOS8er5I"
      },
      "source": [
        "def accuracy(a,b,c,d,e,f,g,h,i):  ## passing a 3D matrix and calculting performance\n",
        "  acc = ((a+e+i)/(a+b+c+d+e+f+g+h+i))*100\n",
        "  return acc"
      ],
      "execution_count": 99,
      "outputs": []
    },
    {
      "cell_type": "code",
      "metadata": {
        "id": "Ws8Qh8zffY2v"
      },
      "source": [
        "def precision(a,b,c,d,e,f,g,h,i): ## \n",
        "  prec_pos = ((a)/(a+b+c))\n",
        "  prec_neut = ((e)/(d+e+f))\n",
        "  prec_neg = ((i)/(g+h+i))\n",
        "\n",
        "  prec = (prec_pos + prec_neut + prec_neg)/3 #Calculating Macro precision\n",
        "\n",
        "  return prec"
      ],
      "execution_count": 100,
      "outputs": []
    },
    {
      "cell_type": "code",
      "metadata": {
        "id": "rSdu6RnOgaR3"
      },
      "source": [
        "def recall(a,b,c,d,e,f,g,h,i): \n",
        "  rec_pos = ((a)/(a+d+g))\n",
        "  rec_neut = ((e)/(b+e+h))\n",
        "  rec_neg = ((i)/(c+f+i))\n",
        "\n",
        "  rec = (rec_pos + rec_neut + rec_neg)/3 #macro recall\n",
        "\n",
        "  return rec"
      ],
      "execution_count": 101,
      "outputs": []
    },
    {
      "cell_type": "code",
      "metadata": {
        "id": "AP9m_j5TgvAu"
      },
      "source": [
        "def F1_score(p,r):  ## precision and recall\n",
        "  f1 = ((2*p*r)/(p+r))\n",
        "\n",
        "  return f1"
      ],
      "execution_count": 102,
      "outputs": []
    },
    {
      "cell_type": "code",
      "metadata": {
        "id": "9DUo-hUjAGVW"
      },
      "source": [
        "test_data['Predicted Sentiment'] = None"
      ],
      "execution_count": 103,
      "outputs": []
    },
    {
      "cell_type": "code",
      "metadata": {
        "id": "Ze3Dq1oJZxak"
      },
      "source": [
        "import matplotlib.pyplot as plt"
      ],
      "execution_count": 104,
      "outputs": []
    },
    {
      "cell_type": "code",
      "metadata": {
        "id": "dzu15gFC5P_W",
        "outputId": "81353bcb-8425-46ac-8c6e-4e1e62ae8e92",
        "colab": {
          "base_uri": "https://localhost:8080/",
          "height": 527
        }
      },
      "source": [
        "k = [1,3,5,7,10]  # My main function you can just change values of K here\n",
        "\n",
        "ac = []\n",
        "pr = []\n",
        "rc = []\n",
        "fs = [] \n",
        "for ind in k:\n",
        "  ind = int(ind)\n",
        "  C = []\n",
        "  for i in range(len(test_data['Tweet'])):\n",
        "    dist = ydist[i]\n",
        "    pred = k_n_n(ind,dist)\n",
        "    test_data['Predicted Sentiment'][i] = pred\n",
        "\n",
        "  C = confusion_matrix()\n",
        "  a = C[0][0] \n",
        "  b = C[0][1] \n",
        "  c = C[0][2]\n",
        "  d = C[1][0] \n",
        "  e = C[1][1] \n",
        "  f = C[1][2]\n",
        "  g = C[2][0] \n",
        "  h = C[2][1] \n",
        "  i = C[2][2]\n",
        "  accu = accuracy(a,b,c,d,e,f,g,h,i)\n",
        "  ac.append(accu)\n",
        "  pre  = precision(a,b,c,d,e,f,g,h,i)*100\n",
        "  pr.append(pre)\n",
        "  rec = recall(a,b,c,d,e,f,g,h,i)*100\n",
        "  rc.append(rec)\n",
        "\n",
        "  f1 = F1_score(pre,rec)\n",
        "  fs.append(f1)\n",
        "\n",
        "  print(\"Performance for k = \",ind)\n",
        "  print(\"accuracy\", accu)\n",
        "  print(\"Precision\", pre)\n",
        "  print(\"Recall\",rec)\n",
        "\n",
        "  print(\"F1 Score\",f1)\n",
        "  print(\"-----------------------------------------------\")\n"
      ],
      "execution_count": 105,
      "outputs": [
        {
          "output_type": "stream",
          "text": [
            "Performance for k =  1\n",
            "accuracy 51.21533721328312\n",
            "Precision 52.39721072730769\n",
            "Recall 55.04609282595423\n",
            "F1 Score 53.68899931649391\n",
            "-----------------------------------------------\n",
            "Performance for k =  3\n",
            "accuracy 49.9828825744608\n",
            "Precision 52.2113047445556\n",
            "Recall 55.58849884194089\n",
            "F1 Score 53.847000769350444\n",
            "-----------------------------------------------\n",
            "Performance for k =  5\n",
            "accuracy 48.54501882916809\n",
            "Precision 51.478562760592474\n",
            "Recall 54.66780128358\n",
            "F1 Score 53.02527061952385\n",
            "-----------------------------------------------\n",
            "Performance for k =  7\n",
            "accuracy 47.17562478603218\n",
            "Precision 50.45484172890022\n",
            "Recall 54.23636960756425\n",
            "F1 Score 52.277309805979016\n",
            "-----------------------------------------------\n",
            "Performance for k =  10\n",
            "accuracy 46.45669291338583\n",
            "Precision 50.80994013063732\n",
            "Recall 54.90629536445264\n",
            "F1 Score 52.77875374956009\n",
            "-----------------------------------------------\n"
          ],
          "name": "stdout"
        }
      ]
    },
    {
      "cell_type": "code",
      "metadata": {
        "id": "32hWxtZI5wAQ",
        "outputId": "57c986ac-5c15-47ff-fefd-79e28a8504b0",
        "colab": {
          "base_uri": "https://localhost:8080/",
          "height": 312
        }
      },
      "source": [
        "# plt.figure()\n",
        "plt.plot(k,ac)\n",
        "\n",
        "plt.xlabel('k')  \n",
        "plt.ylabel('Accuracy') \n",
        "plt.title('Accruacy Performance Graph')\n"
      ],
      "execution_count": 106,
      "outputs": [
        {
          "output_type": "execute_result",
          "data": {
            "text/plain": [
              "Text(0.5, 1.0, 'Accruacy Performance Graph')"
            ]
          },
          "metadata": {
            "tags": []
          },
          "execution_count": 106
        },
        {
          "output_type": "display_data",
          "data": {
            "image/png": "[encoded data removed]",
            "text/plain": [
              "<Figure size 432x288 with 1 Axes>"
            ]
          },
          "metadata": {
            "tags": [],
            "needs_background": "light"
          }
        }
      ]
    },
    {
      "cell_type": "code",
      "metadata": {
        "id": "XF3_CSYn6koA",
        "outputId": "d5e5a87a-7b80-4c43-f59b-1ea4ffb001ca",
        "colab": {
          "base_uri": "https://localhost:8080/",
          "height": 312
        }
      },
      "source": [
        "plt.figure()\n",
        "plt.plot(k,pr)\n",
        "plt.xlabel('k')  \n",
        "plt.ylabel('Precision') \n",
        "plt.title('Precision Performance Graph')\n"
      ],
      "execution_count": 107,
      "outputs": [
        {
          "output_type": "execute_result",
          "data": {
            "text/plain": [
              "Text(0.5, 1.0, 'Precision Performance Graph')"
            ]
          },
          "metadata": {
            "tags": []
          },
          "execution_count": 107
        },
        {
          "output_type": "display_data",
          "data": {
            "image/png": "[encoded data removed]",
            "text/plain": [
              "<Figure size 432x288 with 1 Axes>"
            ]
          },
          "metadata": {
            "tags": [],
            "needs_background": "light"
          }
        }
      ]
    },
    {
      "cell_type": "code",
      "metadata": {
        "id": "xlDmNxG1VID-",
        "outputId": "7ddfab1b-8e75-4913-872f-264b7edc3402",
        "colab": {
          "base_uri": "https://localhost:8080/",
          "height": 312
        }
      },
      "source": [
        "plt.figure()\n",
        "plt.plot(k,rc)\n",
        "plt.xlabel('k')  \n",
        "plt.ylabel('Recall') \n",
        "plt.title('Recall Performance Graph')\n"
      ],
      "execution_count": 108,
      "outputs": [
        {
          "output_type": "execute_result",
          "data": {
            "text/plain": [
              "Text(0.5, 1.0, 'Recall Performance Graph')"
            ]
          },
          "metadata": {
            "tags": []
          },
          "execution_count": 108
        },
        {
          "output_type": "display_data",
          "data": {
            "image/png": "[encoded data removed]",
            "text/plain": [
              "<Figure size 432x288 with 1 Axes>"
            ]
          },
          "metadata": {
            "tags": [],
            "needs_background": "light"
          }
        }
      ]
    },
    {
      "cell_type": "code",
      "metadata": {
        "id": "55qTDjwGb-2b",
        "outputId": "986c84da-f084-4f4e-9686-f4d50b1a051e",
        "colab": {
          "base_uri": "https://localhost:8080/",
          "height": 312
        }
      },
      "source": [
        "plt.figure()\n",
        "plt.plot(k,fs)\n",
        "plt.xlabel('k')  \n",
        "plt.ylabel('F1_Score') \n",
        "plt.title('F1 Performance Graph')"
      ],
      "execution_count": 109,
      "outputs": [
        {
          "output_type": "execute_result",
          "data": {
            "text/plain": [
              "Text(0.5, 1.0, 'F1 Performance Graph')"
            ]
          },
          "metadata": {
            "tags": []
          },
          "execution_count": 109
        },
        {
          "output_type": "display_data",
          "data": {
            "image/png": "[encoded data removed]",
            "text/plain": [
              "<Figure size 432x288 with 1 Axes>"
            ]
          },
          "metadata": {
            "tags": [],
            "needs_background": "light"
          }
        }
      ]
    },
    {
      "cell_type": "markdown",
      "metadata": {
        "id": "ELRsQGPXl7iU"
      },
      "source": [
        "# Task2 Sklearn "
      ]
    },
    {
      "cell_type": "code",
      "metadata": {
        "id": "LEWMONwxmAwQ"
      },
      "source": [
        "from sklearn.neighbors import KNeighborsClassifier\n",
        "import pandas as pd\n",
        "import numpy as np\n",
        "from sklearn.metrics.pairwise import euclidean_distances\n",
        "from sklearn.metrics import confusion_matrix\n",
        "from sklearn.metrics import classification_report\n",
        "from sklearn.metrics import accuracy_score"
      ],
      "execution_count": 110,
      "outputs": []
    },
    {
      "cell_type": "code",
      "metadata": {
        "id": "snNgMWPg01d_"
      },
      "source": [
        "test_sen = list(test_data['Sentiment'])"
      ],
      "execution_count": 111,
      "outputs": []
    },
    {
      "cell_type": "code",
      "metadata": {
        "id": "YGGDkGyhmxz3",
        "outputId": "c13e3316-84ff-4a0a-c020-e5da4388467b",
        "colab": {
          "base_uri": "https://localhost:8080/",
          "height": 1000
        }
      },
      "source": [
        "\n",
        "euc_dist = []\n",
        "pred = []\n",
        "name = ['negative' , 'neutral','positive'] # labels assigned \n",
        "p2 = []\n",
        "r2 = []\n",
        "f2 = []\n",
        "ac2 = []\n",
        "\n",
        "k_nearest = [1,3,5,7,10]\n",
        "\n",
        "\n",
        "for ind in k_nearest:\n",
        "  nearest = KNeighborsClassifier(ind, algorithm = 'brute') # it uses brute algo and returns me nearest neighbours\n",
        "  nearest.fit(bow,train_sen)  #Fits the model of training and its freq\n",
        "\n",
        "  prediction = nearest.predict(bow_test)  #predicts the testing tweets sentiment\n",
        "\n",
        "  print('Confusion Matrix')\n",
        "  print(confusion_matrix(test_sen,prediction, labels = name))\n",
        "  print('Classification Report')\n",
        "  print(classification_report(test_sen,prediction, labels = name))\n",
        "  ac = accuracy_score(test_sen,prediction)\n",
        "\n",
        "  class_rep = classification_report(test_sen,prediction, labels = name, output_dict= True) #using dict type so i can access the table\n",
        "\n",
        "  print(\"Accuracy for k = \",ind,\" \",ac)\n",
        "\n",
        "  print('-----------------------------')\n",
        "  # print(\"Classification Report\")\n",
        "  class_rep = np.asarray(class_rep)\n",
        "  class_rep = class_rep.tolist()\n",
        "  # print(class_rep)\n",
        "                                          #Accessing the individual values for plotting\n",
        "  p = class_rep['macro avg']['precision']\n",
        "  p2.append(p)\n",
        "  \n",
        "  r = class_rep['macro avg']['recall']\n",
        "  r2.append(r)\n",
        "\n",
        "  f = class_rep['macro avg']['f1-score']\n",
        "  f2.append(f)\n",
        "\n",
        "  ac2.append(ac)\n"
      ],
      "execution_count": 112,
      "outputs": [
        {
          "output_type": "stream",
          "text": [
            "Confusion Matrix\n",
            "[[878 718 238]\n",
            " [125 347 143]\n",
            " [ 61 147 264]]\n",
            "Classification Report\n",
            "              precision    recall  f1-score   support\n",
            "\n",
            "    negative       0.83      0.48      0.61      1834\n",
            "     neutral       0.29      0.56      0.38       615\n",
            "    positive       0.41      0.56      0.47       472\n",
            "\n",
            "    accuracy                           0.51      2921\n",
            "   macro avg       0.51      0.53      0.49      2921\n",
            "weighted avg       0.64      0.51      0.54      2921\n",
            "\n",
            "Accuracy for k =  1   0.5097569325573433\n",
            "-----------------------------\n",
            "Confusion Matrix\n",
            "[[861 711 262]\n",
            " [106 352 157]\n",
            " [ 64 112 296]]\n",
            "Classification Report\n",
            "              precision    recall  f1-score   support\n",
            "\n",
            "    negative       0.84      0.47      0.60      1834\n",
            "     neutral       0.30      0.57      0.39       615\n",
            "    positive       0.41      0.63      0.50       472\n",
            "\n",
            "    accuracy                           0.52      2921\n",
            "   macro avg       0.52      0.56      0.50      2921\n",
            "weighted avg       0.65      0.52      0.54      2921\n",
            "\n",
            "Accuracy for k =  3   0.5166039027730229\n",
            "-----------------------------\n",
            "Confusion Matrix\n",
            "[[847 786 201]\n",
            " [106 394 115]\n",
            " [ 55 140 277]]\n",
            "Classification Report\n",
            "              precision    recall  f1-score   support\n",
            "\n",
            "    negative       0.84      0.46      0.60      1834\n",
            "     neutral       0.30      0.64      0.41       615\n",
            "    positive       0.47      0.59      0.52       472\n",
            "\n",
            "    accuracy                           0.52      2921\n",
            "   macro avg       0.54      0.56      0.51      2921\n",
            "weighted avg       0.67      0.52      0.54      2921\n",
            "\n",
            "Accuracy for k =  5   0.5196850393700787\n",
            "-----------------------------\n",
            "Confusion Matrix\n",
            "[[769 793 272]\n",
            " [ 88 376 151]\n",
            " [ 52 132 288]]\n",
            "Classification Report\n",
            "              precision    recall  f1-score   support\n",
            "\n",
            "    negative       0.85      0.42      0.56      1834\n",
            "     neutral       0.29      0.61      0.39       615\n",
            "    positive       0.41      0.61      0.49       472\n",
            "\n",
            "    accuracy                           0.49      2921\n",
            "   macro avg       0.51      0.55      0.48      2921\n",
            "weighted avg       0.66      0.49      0.51      2921\n",
            "\n",
            "Accuracy for k =  7   0.49058541595344063\n",
            "-----------------------------\n",
            "Confusion Matrix\n",
            "[[724 781 329]\n",
            " [ 82 385 148]\n",
            " [ 48 139 285]]\n",
            "Classification Report\n",
            "              precision    recall  f1-score   support\n",
            "\n",
            "    negative       0.85      0.39      0.54      1834\n",
            "     neutral       0.30      0.63      0.40       615\n",
            "    positive       0.37      0.60      0.46       472\n",
            "\n",
            "    accuracy                           0.48      2921\n",
            "   macro avg       0.51      0.54      0.47      2921\n",
            "weighted avg       0.65      0.48      0.50      2921\n",
            "\n",
            "Accuracy for k =  10   0.47723382403286546\n",
            "-----------------------------\n"
          ],
          "name": "stdout"
        }
      ]
    },
    {
      "cell_type": "code",
      "metadata": {
        "id": "BaOvr2R85W60",
        "outputId": "2a5d97ea-3083-4bb7-c14b-60f72c49bea8",
        "colab": {
          "base_uri": "https://localhost:8080/",
          "height": 329
        }
      },
      "source": [
        "print(ac2)\n",
        "plt.figure()\n",
        "plt.plot(k,ac2)\n",
        "plt.xlabel('k')  \n",
        "plt.ylabel('Accuracy') \n",
        "plt.title('Accruacy Performance Graph')"
      ],
      "execution_count": 113,
      "outputs": [
        {
          "output_type": "stream",
          "text": [
            "[0.5097569325573433, 0.5166039027730229, 0.5196850393700787, 0.49058541595344063, 0.47723382403286546]\n"
          ],
          "name": "stdout"
        },
        {
          "output_type": "execute_result",
          "data": {
            "text/plain": [
              "Text(0.5, 1.0, 'Accruacy Performance Graph')"
            ]
          },
          "metadata": {
            "tags": []
          },
          "execution_count": 113
        },
        {
          "output_type": "display_data",
          "data": {
            "image/png": "[encoded data removed]",
            "text/plain": [
              "<Figure size 432x288 with 1 Axes>"
            ]
          },
          "metadata": {
            "tags": [],
            "needs_background": "light"
          }
        }
      ]
    },
    {
      "cell_type": "code",
      "metadata": {
        "id": "Z1AiGoDqv5ZL",
        "outputId": "76fee2c0-38c8-4240-be16-710e498a2bf4",
        "colab": {
          "base_uri": "https://localhost:8080/",
          "height": 329
        }
      },
      "source": [
        "print(p2)\n",
        "plt.figure()\n",
        "plt.plot(k,p2)\n",
        "plt.xlabel('k')  \n",
        "plt.ylabel('Precision') \n",
        "plt.title('Precision Performance Graph')"
      ],
      "execution_count": 114,
      "outputs": [
        {
          "output_type": "stream",
          "text": [
            "[0.5069313086230812, 0.5162240080877223, 0.5352929945889474, 0.5133521148778918, 0.505603360254549]\n"
          ],
          "name": "stdout"
        },
        {
          "output_type": "execute_result",
          "data": {
            "text/plain": [
              "Text(0.5, 1.0, 'Precision Performance Graph')"
            ]
          },
          "metadata": {
            "tags": []
          },
          "execution_count": 114
        },
        {
          "output_type": "display_data",
          "data": {
            "image/png": "[encoded data removed]",
            "text/plain": [
              "<Figure size 432x288 with 1 Axes>"
            ]
          },
          "metadata": {
            "tags": [],
            "needs_background": "light"
          }
        }
      ]
    },
    {
      "cell_type": "code",
      "metadata": {
        "id": "AhJ_NuPj5MNs",
        "outputId": "26b151b3-6f52-4627-d020-dd43b9e30529",
        "colab": {
          "base_uri": "https://localhost:8080/",
          "height": 329
        }
      },
      "source": [
        "print(r2)\n",
        "plt.figure()\n",
        "plt.plot(k,r2)\n",
        "plt.xlabel('k')  \n",
        "plt.ylabel('Recall') \n",
        "plt.title('Recall Performance Graph')"
      ],
      "execution_count": 115,
      "outputs": [
        {
          "output_type": "stream",
          "text": [
            "[0.5340948938757636, 0.5563140054999981, 0.5631156247841428, 0.5469512257734631, 0.5415317864294478]\n"
          ],
          "name": "stdout"
        },
        {
          "output_type": "execute_result",
          "data": {
            "text/plain": [
              "Text(0.5, 1.0, 'Recall Performance Graph')"
            ]
          },
          "metadata": {
            "tags": []
          },
          "execution_count": 115
        },
        {
          "output_type": "display_data",
          "data": {
            "image/png": "[encoded data removed]",
            "text/plain": [
              "<Figure size 432x288 with 1 Axes>"
            ]
          },
          "metadata": {
            "tags": [],
            "needs_background": "light"
          }
        }
      ]
    },
    {
      "cell_type": "code",
      "metadata": {
        "id": "bX6RxPda5PnQ",
        "outputId": "daa72924-8dac-48b6-84c1-2823ec23421f",
        "colab": {
          "base_uri": "https://localhost:8080/",
          "height": 329
        }
      },
      "source": [
        "print(f2)\n",
        "plt.figure()\n",
        "plt.plot(k,f2)\n",
        "plt.xlabel('k')  \n",
        "plt.ylabel('F1_Score') \n",
        "plt.title('F1 Performance Graph')"
      ],
      "execution_count": 116,
      "outputs": [
        {
          "output_type": "stream",
          "text": [
            "[0.48616251195713484, 0.49769317327653234, 0.5078273496155287, 0.48002734119682405, 0.46721487419927454]\n"
          ],
          "name": "stdout"
        },
        {
          "output_type": "execute_result",
          "data": {
            "text/plain": [
              "Text(0.5, 1.0, 'F1 Performance Graph')"
            ]
          },
          "metadata": {
            "tags": []
          },
          "execution_count": 116
        },
        {
          "output_type": "display_data",
          "data": {
            "image/png": "[encoded data removed]",
            "text/plain": [
              "<Figure size 432x288 with 1 Axes>"
            ]
          },
          "metadata": {
            "tags": [],
            "needs_background": "light"
          }
        }
      ]
    }
  ]
}